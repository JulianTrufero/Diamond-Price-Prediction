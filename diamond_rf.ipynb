{
 "cells": [
  {
   "cell_type": "code",
   "execution_count": 51,
   "metadata": {},
   "outputs": [],
   "source": [
    "import pandas as pd\n",
    "import numpy as np\n",
    "import seaborn as sns\n",
    "from sklearn.linear_model import LinearRegression\n",
    "from sklearn.tree import DecisionTreeRegressor\n",
    "from sklearn.ensemble import RandomForestRegressor\n",
    "from sklearn.model_selection import GridSearchCV\n",
    "from sklearn.model_selection import train_test_split\n",
    "from sklearn.model_selection import cross_validate\n",
    "from sklearn.metrics import mean_squared_error\n",
    "import statsmodels.formula.api as smf"
   ]
  },
  {
   "cell_type": "code",
   "execution_count": 2,
   "metadata": {},
   "outputs": [],
   "source": [
    "diamonds_train = pd.read_csv('/home/julian/Cursos/Ironhack/Proyectos/Proyecto5/Diamond-Price-Prediction/train.csv')"
   ]
  },
  {
   "cell_type": "code",
   "execution_count": 77,
   "metadata": {},
   "outputs": [],
   "source": [
    "diamonds_test = pd.read_csv('/home/julian/Cursos/Ironhack/Proyectos/Proyecto5/Diamond-Price-Prediction/test.csv')"
   ]
  },
  {
   "cell_type": "code",
   "execution_count": 4,
   "metadata": {},
   "outputs": [
    {
     "data": {
      "text/plain": [
       "(40455, 11)"
      ]
     },
     "execution_count": 4,
     "metadata": {},
     "output_type": "execute_result"
    }
   ],
   "source": [
    "diamonds_train.shape"
   ]
  },
  {
   "cell_type": "code",
   "execution_count": 5,
   "metadata": {},
   "outputs": [
    {
     "data": {
      "text/html": [
       "<div>\n",
       "<style scoped>\n",
       "    .dataframe tbody tr th:only-of-type {\n",
       "        vertical-align: middle;\n",
       "    }\n",
       "\n",
       "    .dataframe tbody tr th {\n",
       "        vertical-align: top;\n",
       "    }\n",
       "\n",
       "    .dataframe thead th {\n",
       "        text-align: right;\n",
       "    }\n",
       "</style>\n",
       "<table border=\"1\" class=\"dataframe\">\n",
       "  <thead>\n",
       "    <tr style=\"text-align: right;\">\n",
       "      <th></th>\n",
       "      <th>id</th>\n",
       "      <th>carat</th>\n",
       "      <th>cut</th>\n",
       "      <th>color</th>\n",
       "      <th>clarity</th>\n",
       "      <th>depth</th>\n",
       "      <th>table</th>\n",
       "      <th>x</th>\n",
       "      <th>y</th>\n",
       "      <th>z</th>\n",
       "      <th>price</th>\n",
       "    </tr>\n",
       "  </thead>\n",
       "  <tbody>\n",
       "    <tr>\n",
       "      <th>0</th>\n",
       "      <td>0</td>\n",
       "      <td>0.30</td>\n",
       "      <td>Premium</td>\n",
       "      <td>D</td>\n",
       "      <td>SI2</td>\n",
       "      <td>62.4</td>\n",
       "      <td>58.0</td>\n",
       "      <td>4.31</td>\n",
       "      <td>4.28</td>\n",
       "      <td>2.68</td>\n",
       "      <td>6.353</td>\n",
       "    </tr>\n",
       "    <tr>\n",
       "      <th>1</th>\n",
       "      <td>1</td>\n",
       "      <td>1.01</td>\n",
       "      <td>Ideal</td>\n",
       "      <td>E</td>\n",
       "      <td>VVS2</td>\n",
       "      <td>62.7</td>\n",
       "      <td>56.0</td>\n",
       "      <td>6.42</td>\n",
       "      <td>6.46</td>\n",
       "      <td>4.04</td>\n",
       "      <td>9.183</td>\n",
       "    </tr>\n",
       "    <tr>\n",
       "      <th>2</th>\n",
       "      <td>2</td>\n",
       "      <td>0.72</td>\n",
       "      <td>Ideal</td>\n",
       "      <td>F</td>\n",
       "      <td>VS2</td>\n",
       "      <td>61.8</td>\n",
       "      <td>59.0</td>\n",
       "      <td>5.71</td>\n",
       "      <td>5.74</td>\n",
       "      <td>3.54</td>\n",
       "      <td>7.983</td>\n",
       "    </tr>\n",
       "  </tbody>\n",
       "</table>\n",
       "</div>"
      ],
      "text/plain": [
       "   id  carat      cut color clarity  depth  table     x     y     z  price\n",
       "0   0   0.30  Premium     D     SI2   62.4   58.0  4.31  4.28  2.68  6.353\n",
       "1   1   1.01    Ideal     E    VVS2   62.7   56.0  6.42  6.46  4.04  9.183\n",
       "2   2   0.72    Ideal     F     VS2   61.8   59.0  5.71  5.74  3.54  7.983"
      ]
     },
     "execution_count": 5,
     "metadata": {},
     "output_type": "execute_result"
    }
   ],
   "source": [
    "diamonds_train.head(3)"
   ]
  },
  {
   "cell_type": "code",
   "execution_count": 6,
   "metadata": {},
   "outputs": [
    {
     "name": "stdout",
     "output_type": "stream",
     "text": [
      "<class 'pandas.core.frame.DataFrame'>\n",
      "RangeIndex: 40455 entries, 0 to 40454\n",
      "Data columns (total 11 columns):\n",
      " #   Column   Non-Null Count  Dtype  \n",
      "---  ------   --------------  -----  \n",
      " 0   id       40455 non-null  int64  \n",
      " 1   carat    40455 non-null  float64\n",
      " 2   cut      40455 non-null  object \n",
      " 3   color    40455 non-null  object \n",
      " 4   clarity  40455 non-null  object \n",
      " 5   depth    40455 non-null  float64\n",
      " 6   table    40455 non-null  float64\n",
      " 7   x        40455 non-null  float64\n",
      " 8   y        40455 non-null  float64\n",
      " 9   z        40455 non-null  float64\n",
      " 10  price    40455 non-null  float64\n",
      "dtypes: float64(7), int64(1), object(3)\n",
      "memory usage: 3.4+ MB\n"
     ]
    }
   ],
   "source": [
    "diamonds_train.info()"
   ]
  },
  {
   "cell_type": "code",
   "execution_count": 7,
   "metadata": {},
   "outputs": [
    {
     "data": {
      "text/plain": [
       "id           int64\n",
       "carat      float64\n",
       "cut         object\n",
       "color       object\n",
       "clarity     object\n",
       "depth      float64\n",
       "table      float64\n",
       "x          float64\n",
       "y          float64\n",
       "z          float64\n",
       "price      float64\n",
       "dtype: object"
      ]
     },
     "execution_count": 7,
     "metadata": {},
     "output_type": "execute_result"
    }
   ],
   "source": [
    "diamonds_train.dtypes"
   ]
  },
  {
   "cell_type": "markdown",
   "metadata": {},
   "source": [
    "#### CATEGORICAL FEATURES"
   ]
  },
  {
   "cell_type": "code",
   "execution_count": 8,
   "metadata": {
    "scrolled": true
   },
   "outputs": [
    {
     "data": {
      "text/plain": [
       "Ideal        16230\n",
       "Premium      10338\n",
       "Very Good     9003\n",
       "Good          3682\n",
       "Fair          1202\n",
       "Name: cut, dtype: int64"
      ]
     },
     "execution_count": 8,
     "metadata": {},
     "output_type": "execute_result"
    }
   ],
   "source": [
    "diamonds_train.cut.value_counts()"
   ]
  },
  {
   "cell_type": "code",
   "execution_count": 9,
   "metadata": {},
   "outputs": [],
   "source": [
    "dic_cut = {'Ideal': '1', 'Premium': '2', 'Very Good': '3', 'Good': '4', 'Fair': '5'}"
   ]
  },
  {
   "cell_type": "code",
   "execution_count": 10,
   "metadata": {},
   "outputs": [],
   "source": [
    "diamonds_train.cut = diamonds_train.cut.map(dic_cut)"
   ]
  },
  {
   "cell_type": "markdown",
   "metadata": {},
   "source": [
    "#### COLOR IS MORE IMPORTANT THAN CLARITY (ojo)"
   ]
  },
  {
   "cell_type": "code",
   "execution_count": 11,
   "metadata": {},
   "outputs": [
    {
     "data": {
      "text/plain": [
       "G    8410\n",
       "E    7368\n",
       "F    7182\n",
       "H    6203\n",
       "D    5100\n",
       "I    4070\n",
       "J    2122\n",
       "Name: color, dtype: int64"
      ]
     },
     "execution_count": 11,
     "metadata": {},
     "output_type": "execute_result"
    }
   ],
   "source": [
    "diamonds_train.color.value_counts()"
   ]
  },
  {
   "cell_type": "code",
   "execution_count": 12,
   "metadata": {},
   "outputs": [],
   "source": [
    "#THE COLOR SCALE STARTS AT D, WICH IS NOT TOP QUALITY"
   ]
  },
  {
   "cell_type": "code",
   "execution_count": 13,
   "metadata": {},
   "outputs": [],
   "source": [
    "dic_color = {'D': '1', 'E': '2', 'F': '3', 'G': '4', 'H': '5', 'I': '6', 'J': '7'}"
   ]
  },
  {
   "cell_type": "code",
   "execution_count": 14,
   "metadata": {},
   "outputs": [],
   "source": [
    "diamonds_train.color = diamonds_train.color.map(dic_color)"
   ]
  },
  {
   "cell_type": "code",
   "execution_count": 15,
   "metadata": {},
   "outputs": [
    {
     "data": {
      "text/plain": [
       "4    8410\n",
       "2    7368\n",
       "3    7182\n",
       "5    6203\n",
       "1    5100\n",
       "6    4070\n",
       "7    2122\n",
       "Name: color, dtype: int64"
      ]
     },
     "execution_count": 15,
     "metadata": {},
     "output_type": "execute_result"
    }
   ],
   "source": [
    "diamonds_train.color.value_counts()"
   ]
  },
  {
   "cell_type": "code",
   "execution_count": null,
   "metadata": {},
   "outputs": [],
   "source": []
  },
  {
   "cell_type": "code",
   "execution_count": 16,
   "metadata": {},
   "outputs": [
    {
     "data": {
      "text/plain": [
       "array(['SI2', 'VVS2', 'VS2', 'VS1', 'SI1', 'VVS1', 'IF', 'I1'],\n",
       "      dtype=object)"
      ]
     },
     "execution_count": 16,
     "metadata": {},
     "output_type": "execute_result"
    }
   ],
   "source": [
    "diamonds_train.clarity.unique()"
   ]
  },
  {
   "cell_type": "code",
   "execution_count": 17,
   "metadata": {},
   "outputs": [],
   "source": [
    "dic_clarity = {'I1': '1', 'SI2': '2', 'SI1': '3', 'VS2': '4', 'VS1': '5', 'VVS2': '6', 'VVS1': '7', 'IF': '8'}"
   ]
  },
  {
   "cell_type": "code",
   "execution_count": 18,
   "metadata": {},
   "outputs": [],
   "source": [
    "diamonds_train.clarity = diamonds_train.clarity.map(dic_clarity)"
   ]
  },
  {
   "cell_type": "code",
   "execution_count": 19,
   "metadata": {},
   "outputs": [],
   "source": [
    "#diamonds_train.drop(columns=['id', 'x'], inplace=True)"
   ]
  },
  {
   "cell_type": "code",
   "execution_count": 20,
   "metadata": {},
   "outputs": [],
   "source": [
    "diamonds_train_corr = diamonds_train.corr()"
   ]
  },
  {
   "cell_type": "code",
   "execution_count": 21,
   "metadata": {},
   "outputs": [
    {
     "data": {
      "text/html": [
       "<div>\n",
       "<style scoped>\n",
       "    .dataframe tbody tr th:only-of-type {\n",
       "        vertical-align: middle;\n",
       "    }\n",
       "\n",
       "    .dataframe tbody tr th {\n",
       "        vertical-align: top;\n",
       "    }\n",
       "\n",
       "    .dataframe thead th {\n",
       "        text-align: right;\n",
       "    }\n",
       "</style>\n",
       "<table border=\"1\" class=\"dataframe\">\n",
       "  <thead>\n",
       "    <tr style=\"text-align: right;\">\n",
       "      <th></th>\n",
       "      <th>id</th>\n",
       "      <th>carat</th>\n",
       "      <th>depth</th>\n",
       "      <th>table</th>\n",
       "      <th>x</th>\n",
       "      <th>y</th>\n",
       "      <th>z</th>\n",
       "      <th>price</th>\n",
       "    </tr>\n",
       "  </thead>\n",
       "  <tbody>\n",
       "    <tr>\n",
       "      <th>id</th>\n",
       "      <td>1.000000</td>\n",
       "      <td>-0.003045</td>\n",
       "      <td>-0.000405</td>\n",
       "      <td>0.000783</td>\n",
       "      <td>-0.002447</td>\n",
       "      <td>-0.001936</td>\n",
       "      <td>-0.001273</td>\n",
       "      <td>-0.003194</td>\n",
       "    </tr>\n",
       "    <tr>\n",
       "      <th>carat</th>\n",
       "      <td>-0.003045</td>\n",
       "      <td>1.000000</td>\n",
       "      <td>0.023585</td>\n",
       "      <td>0.185478</td>\n",
       "      <td>0.974648</td>\n",
       "      <td>0.944419</td>\n",
       "      <td>0.947469</td>\n",
       "      <td>0.920064</td>\n",
       "    </tr>\n",
       "    <tr>\n",
       "      <th>depth</th>\n",
       "      <td>-0.000405</td>\n",
       "      <td>0.023585</td>\n",
       "      <td>1.000000</td>\n",
       "      <td>-0.299203</td>\n",
       "      <td>-0.029867</td>\n",
       "      <td>-0.033960</td>\n",
       "      <td>0.089474</td>\n",
       "      <td>-0.003292</td>\n",
       "    </tr>\n",
       "    <tr>\n",
       "      <th>table</th>\n",
       "      <td>0.000783</td>\n",
       "      <td>0.185478</td>\n",
       "      <td>-0.299203</td>\n",
       "      <td>1.000000</td>\n",
       "      <td>0.200374</td>\n",
       "      <td>0.186788</td>\n",
       "      <td>0.153726</td>\n",
       "      <td>0.162804</td>\n",
       "    </tr>\n",
       "    <tr>\n",
       "      <th>x</th>\n",
       "      <td>-0.002447</td>\n",
       "      <td>0.974648</td>\n",
       "      <td>-0.029867</td>\n",
       "      <td>0.200374</td>\n",
       "      <td>1.000000</td>\n",
       "      <td>0.967315</td>\n",
       "      <td>0.965496</td>\n",
       "      <td>0.957668</td>\n",
       "    </tr>\n",
       "    <tr>\n",
       "      <th>y</th>\n",
       "      <td>-0.001936</td>\n",
       "      <td>0.944419</td>\n",
       "      <td>-0.033960</td>\n",
       "      <td>0.186788</td>\n",
       "      <td>0.967315</td>\n",
       "      <td>1.000000</td>\n",
       "      <td>0.941176</td>\n",
       "      <td>0.928909</td>\n",
       "    </tr>\n",
       "    <tr>\n",
       "      <th>z</th>\n",
       "      <td>-0.001273</td>\n",
       "      <td>0.947469</td>\n",
       "      <td>0.089474</td>\n",
       "      <td>0.153726</td>\n",
       "      <td>0.965496</td>\n",
       "      <td>0.941176</td>\n",
       "      <td>1.000000</td>\n",
       "      <td>0.930014</td>\n",
       "    </tr>\n",
       "    <tr>\n",
       "      <th>price</th>\n",
       "      <td>-0.003194</td>\n",
       "      <td>0.920064</td>\n",
       "      <td>-0.003292</td>\n",
       "      <td>0.162804</td>\n",
       "      <td>0.957668</td>\n",
       "      <td>0.928909</td>\n",
       "      <td>0.930014</td>\n",
       "      <td>1.000000</td>\n",
       "    </tr>\n",
       "  </tbody>\n",
       "</table>\n",
       "</div>"
      ],
      "text/plain": [
       "             id     carat     depth     table         x         y         z  \\\n",
       "id     1.000000 -0.003045 -0.000405  0.000783 -0.002447 -0.001936 -0.001273   \n",
       "carat -0.003045  1.000000  0.023585  0.185478  0.974648  0.944419  0.947469   \n",
       "depth -0.000405  0.023585  1.000000 -0.299203 -0.029867 -0.033960  0.089474   \n",
       "table  0.000783  0.185478 -0.299203  1.000000  0.200374  0.186788  0.153726   \n",
       "x     -0.002447  0.974648 -0.029867  0.200374  1.000000  0.967315  0.965496   \n",
       "y     -0.001936  0.944419 -0.033960  0.186788  0.967315  1.000000  0.941176   \n",
       "z     -0.001273  0.947469  0.089474  0.153726  0.965496  0.941176  1.000000   \n",
       "price -0.003194  0.920064 -0.003292  0.162804  0.957668  0.928909  0.930014   \n",
       "\n",
       "          price  \n",
       "id    -0.003194  \n",
       "carat  0.920064  \n",
       "depth -0.003292  \n",
       "table  0.162804  \n",
       "x      0.957668  \n",
       "y      0.928909  \n",
       "z      0.930014  \n",
       "price  1.000000  "
      ]
     },
     "execution_count": 21,
     "metadata": {},
     "output_type": "execute_result"
    }
   ],
   "source": [
    "diamonds_train_corr"
   ]
  },
  {
   "cell_type": "code",
   "execution_count": 22,
   "metadata": {},
   "outputs": [
    {
     "data": {
      "image/png": "[encoded data removed]",
      "text/plain": [
       "<Figure size 432x288 with 2 Axes>"
      ]
     },
     "metadata": {
      "needs_background": "light"
     },
     "output_type": "display_data"
    }
   ],
   "source": [
    "mascara = np.triu(np.ones_like(diamonds_train_corr, dtype=bool))\n",
    "color_map = sns.diverging_palette(0, 10, as_cmap=True) \n",
    "\n",
    "sns.heatmap(diamonds_train_corr, \n",
    "            mask=mascara,\n",
    "            cmap=\"viridis\",\n",
    "            vmax=1,\n",
    "            vmin=-1,\n",
    "            square=True, \n",
    "            linewidth=.5, \n",
    "            cbar_kws={\"shrink\": .5} \n",
    ");"
   ]
  },
  {
   "cell_type": "code",
   "execution_count": 23,
   "metadata": {},
   "outputs": [],
   "source": [
    "X = diamonds_train.drop('price', axis=1)"
   ]
  },
  {
   "cell_type": "code",
   "execution_count": 24,
   "metadata": {},
   "outputs": [],
   "source": [
    "y = diamonds_train.price"
   ]
  },
  {
   "cell_type": "code",
   "execution_count": 25,
   "metadata": {},
   "outputs": [],
   "source": [
    "linear_model = LinearRegression()"
   ]
  },
  {
   "cell_type": "code",
   "execution_count": 26,
   "metadata": {},
   "outputs": [],
   "source": [
    "from sklearn.model_selection import train_test_split"
   ]
  },
  {
   "cell_type": "code",
   "execution_count": 27,
   "metadata": {},
   "outputs": [],
   "source": [
    "X_train, X_test, y_train, y_test = train_test_split(X, y, test_size=0.2)"
   ]
  },
  {
   "cell_type": "code",
   "execution_count": null,
   "metadata": {},
   "outputs": [],
   "source": []
  },
  {
   "cell_type": "code",
   "execution_count": null,
   "metadata": {},
   "outputs": [],
   "source": []
  },
  {
   "cell_type": "code",
   "execution_count": 28,
   "metadata": {},
   "outputs": [
    {
     "data": {
      "text/plain": [
       "LinearRegression()"
      ]
     },
     "execution_count": 28,
     "metadata": {},
     "output_type": "execute_result"
    }
   ],
   "source": [
    "linear_model.fit(X_train,y_train)"
   ]
  },
  {
   "cell_type": "code",
   "execution_count": 29,
   "metadata": {},
   "outputs": [],
   "source": [
    "y_train_pred = linear_model.predict(X_train)"
   ]
  },
  {
   "cell_type": "code",
   "execution_count": 30,
   "metadata": {},
   "outputs": [
    {
     "data": {
      "text/plain": [
       "0.1942284951535887"
      ]
     },
     "execution_count": 30,
     "metadata": {},
     "output_type": "execute_result"
    }
   ],
   "source": [
    "(mean_squared_error(y_train, y_train_pred)) ** 0.5"
   ]
  },
  {
   "cell_type": "code",
   "execution_count": 31,
   "metadata": {},
   "outputs": [],
   "source": [
    "y_test_pred = linear_model.predict(X_test)"
   ]
  },
  {
   "cell_type": "code",
   "execution_count": 32,
   "metadata": {},
   "outputs": [
    {
     "data": {
      "text/plain": [
       "0.18145494026987538"
      ]
     },
     "execution_count": 32,
     "metadata": {},
     "output_type": "execute_result"
    }
   ],
   "source": [
    "(mean_squared_error(y_test, y_test_pred)) ** 0.5"
   ]
  },
  {
   "cell_type": "code",
   "execution_count": null,
   "metadata": {},
   "outputs": [],
   "source": []
  },
  {
   "cell_type": "code",
   "execution_count": 33,
   "metadata": {},
   "outputs": [],
   "source": [
    "#linear_model_ = smf.ols(\"price ~ X\", data=diamonds_train).fit()\n",
    "#linear_model_.summary()"
   ]
  },
  {
   "cell_type": "markdown",
   "metadata": {},
   "source": [
    "#### DCISION TREE REGRESSION"
   ]
  },
  {
   "cell_type": "code",
   "execution_count": 52,
   "metadata": {},
   "outputs": [],
   "source": [
    "tree_model = DecisionTreeRegressor(max_depth=15)"
   ]
  },
  {
   "cell_type": "code",
   "execution_count": 53,
   "metadata": {},
   "outputs": [
    {
     "data": {
      "text/plain": [
       "DecisionTreeRegressor(max_depth=15)"
      ]
     },
     "execution_count": 53,
     "metadata": {},
     "output_type": "execute_result"
    }
   ],
   "source": [
    "tree_model.fit(X_train, y_train)"
   ]
  },
  {
   "cell_type": "code",
   "execution_count": 54,
   "metadata": {},
   "outputs": [],
   "source": [
    "y_test_pred2 = tree_model.predict(X_test)"
   ]
  },
  {
   "cell_type": "code",
   "execution_count": 55,
   "metadata": {},
   "outputs": [
    {
     "data": {
      "text/plain": [
       "0.11895772662567132"
      ]
     },
     "execution_count": 55,
     "metadata": {},
     "output_type": "execute_result"
    }
   ],
   "source": [
    "(mean_squared_error(y_test, y_test_pred2)) ** 0.5"
   ]
  },
  {
   "cell_type": "code",
   "execution_count": 38,
   "metadata": {},
   "outputs": [],
   "source": []
  },
  {
   "cell_type": "code",
   "execution_count": 57,
   "metadata": {},
   "outputs": [],
   "source": [
    "gs = GridSearchCV(\n",
    "    estimator=DecisionTreeRegressor(),\n",
    "    param_grid={\n",
    "        \"max_depth\": [11, 12, 13, 14, 15],\n",
    "        \"min_samples_split\": [30, 50, 70, 100],\n",
    "    },\n",
    "    cv=10,\n",
    "    verbose=3,\n",
    "    scoring=\"neg_root_mean_squared_error\",\n",
    "    return_train_score=True\n",
    ")"
   ]
  },
  {
   "cell_type": "code",
   "execution_count": 58,
   "metadata": {},
   "outputs": [
    {
     "name": "stdout",
     "output_type": "stream",
     "text": [
      "Fitting 10 folds for each of 20 candidates, totalling 200 fits\n",
      "[CV 1/10] END max_depth=11, min_samples_split=30;, score=(train=-0.099, test=-0.125) total time=   0.1s\n",
      "[CV 2/10] END max_depth=11, min_samples_split=30;, score=(train=-0.100, test=-0.114) total time=   0.1s\n",
      "[CV 3/10] END max_depth=11, min_samples_split=30;, score=(train=-0.100, test=-0.118) total time=   0.1s\n",
      "[CV 4/10] END max_depth=11, min_samples_split=30;, score=(train=-0.099, test=-0.118) total time=   0.1s\n",
      "[CV 5/10] END max_depth=11, min_samples_split=30;, score=(train=-0.099, test=-0.114) total time=   0.1s\n",
      "[CV 6/10] END max_depth=11, min_samples_split=30;, score=(train=-0.100, test=-0.120) total time=   0.1s\n",
      "[CV 7/10] END max_depth=11, min_samples_split=30;, score=(train=-0.099, test=-0.121) total time=   0.1s\n",
      "[CV 8/10] END max_depth=11, min_samples_split=30;, score=(train=-0.100, test=-0.115) total time=   0.1s\n",
      "[CV 9/10] END max_depth=11, min_samples_split=30;, score=(train=-0.100, test=-0.118) total time=   0.1s\n",
      "[CV 10/10] END max_depth=11, min_samples_split=30;, score=(train=-0.100, test=-0.120) total time=   0.1s\n",
      "[CV 1/10] END max_depth=11, min_samples_split=50;, score=(train=-0.103, test=-0.126) total time=   0.1s\n",
      "[CV 2/10] END max_depth=11, min_samples_split=50;, score=(train=-0.105, test=-0.116) total time=   0.1s\n",
      "[CV 3/10] END max_depth=11, min_samples_split=50;, score=(train=-0.105, test=-0.121) total time=   0.1s\n",
      "[CV 4/10] END max_depth=11, min_samples_split=50;, score=(train=-0.104, test=-0.121) total time=   0.1s\n",
      "[CV 5/10] END max_depth=11, min_samples_split=50;, score=(train=-0.103, test=-0.116) total time=   0.1s\n",
      "[CV 6/10] END max_depth=11, min_samples_split=50;, score=(train=-0.104, test=-0.118) total time=   0.1s\n",
      "[CV 7/10] END max_depth=11, min_samples_split=50;, score=(train=-0.104, test=-0.124) total time=   0.1s\n",
      "[CV 8/10] END max_depth=11, min_samples_split=50;, score=(train=-0.105, test=-0.116) total time=   0.1s\n",
      "[CV 9/10] END max_depth=11, min_samples_split=50;, score=(train=-0.104, test=-0.117) total time=   0.1s\n",
      "[CV 10/10] END max_depth=11, min_samples_split=50;, score=(train=-0.105, test=-0.121) total time=   0.1s\n",
      "[CV 1/10] END max_depth=11, min_samples_split=70;, score=(train=-0.107, test=-0.128) total time=   0.1s\n",
      "[CV 2/10] END max_depth=11, min_samples_split=70;, score=(train=-0.108, test=-0.117) total time=   0.1s\n",
      "[CV 3/10] END max_depth=11, min_samples_split=70;, score=(train=-0.109, test=-0.122) total time=   0.1s\n",
      "[CV 4/10] END max_depth=11, min_samples_split=70;, score=(train=-0.108, test=-0.122) total time=   0.1s\n",
      "[CV 5/10] END max_depth=11, min_samples_split=70;, score=(train=-0.107, test=-0.118) total time=   0.1s\n",
      "[CV 6/10] END max_depth=11, min_samples_split=70;, score=(train=-0.108, test=-0.119) total time=   0.1s\n",
      "[CV 7/10] END max_depth=11, min_samples_split=70;, score=(train=-0.108, test=-0.125) total time=   0.1s\n",
      "[CV 8/10] END max_depth=11, min_samples_split=70;, score=(train=-0.109, test=-0.118) total time=   0.1s\n",
      "[CV 9/10] END max_depth=11, min_samples_split=70;, score=(train=-0.108, test=-0.120) total time=   0.1s\n",
      "[CV 10/10] END max_depth=11, min_samples_split=70;, score=(train=-0.108, test=-0.122) total time=   0.1s\n",
      "[CV 1/10] END max_depth=11, min_samples_split=100;, score=(train=-0.112, test=-0.131) total time=   0.1s\n",
      "[CV 2/10] END max_depth=11, min_samples_split=100;, score=(train=-0.113, test=-0.121) total time=   0.1s\n",
      "[CV 3/10] END max_depth=11, min_samples_split=100;, score=(train=-0.114, test=-0.125) total time=   0.1s\n",
      "[CV 4/10] END max_depth=11, min_samples_split=100;, score=(train=-0.113, test=-0.124) total time=   0.1s\n",
      "[CV 5/10] END max_depth=11, min_samples_split=100;, score=(train=-0.112, test=-0.121) total time=   0.1s\n",
      "[CV 6/10] END max_depth=11, min_samples_split=100;, score=(train=-0.114, test=-0.124) total time=   0.1s\n",
      "[CV 7/10] END max_depth=11, min_samples_split=100;, score=(train=-0.113, test=-0.128) total time=   0.1s\n",
      "[CV 8/10] END max_depth=11, min_samples_split=100;, score=(train=-0.113, test=-0.120) total time=   0.1s\n",
      "[CV 9/10] END max_depth=11, min_samples_split=100;, score=(train=-0.112, test=-0.123) total time=   0.1s\n",
      "[CV 10/10] END max_depth=11, min_samples_split=100;, score=(train=-0.114, test=-0.125) total time=   0.1s\n",
      "[CV 1/10] END max_depth=12, min_samples_split=30;, score=(train=-0.092, test=-0.123) total time=   0.1s\n",
      "[CV 2/10] END max_depth=12, min_samples_split=30;, score=(train=-0.093, test=-0.112) total time=   0.2s\n",
      "[CV 3/10] END max_depth=12, min_samples_split=30;, score=(train=-0.094, test=-0.117) total time=   0.2s\n",
      "[CV 4/10] END max_depth=12, min_samples_split=30;, score=(train=-0.092, test=-0.116) total time=   0.1s\n",
      "[CV 5/10] END max_depth=12, min_samples_split=30;, score=(train=-0.092, test=-0.111) total time=   0.1s\n",
      "[CV 6/10] END max_depth=12, min_samples_split=30;, score=(train=-0.093, test=-0.118) total time=   0.2s\n",
      "[CV 7/10] END max_depth=12, min_samples_split=30;, score=(train=-0.093, test=-0.119) total time=   0.1s\n",
      "[CV 8/10] END max_depth=12, min_samples_split=30;, score=(train=-0.094, test=-0.112) total time=   0.2s\n",
      "[CV 9/10] END max_depth=12, min_samples_split=30;, score=(train=-0.093, test=-0.113) total time=   0.2s\n",
      "[CV 10/10] END max_depth=12, min_samples_split=30;, score=(train=-0.093, test=-0.117) total time=   0.1s\n",
      "[CV 1/10] END max_depth=12, min_samples_split=50;, score=(train=-0.098, test=-0.124) total time=   0.1s\n",
      "[CV 2/10] END max_depth=12, min_samples_split=50;, score=(train=-0.100, test=-0.114) total time=   0.1s\n",
      "[CV 3/10] END max_depth=12, min_samples_split=50;, score=(train=-0.101, test=-0.119) total time=   0.1s\n",
      "[CV 4/10] END max_depth=12, min_samples_split=50;, score=(train=-0.099, test=-0.119) total time=   0.1s\n",
      "[CV 5/10] END max_depth=12, min_samples_split=50;, score=(train=-0.098, test=-0.114) total time=   0.1s\n",
      "[CV 6/10] END max_depth=12, min_samples_split=50;, score=(train=-0.100, test=-0.119) total time=   0.1s\n",
      "[CV 7/10] END max_depth=12, min_samples_split=50;, score=(train=-0.100, test=-0.121) total time=   0.1s\n",
      "[CV 8/10] END max_depth=12, min_samples_split=50;, score=(train=-0.101, test=-0.114) total time=   0.1s\n",
      "[CV 9/10] END max_depth=12, min_samples_split=50;, score=(train=-0.100, test=-0.114) total time=   0.1s\n",
      "[CV 10/10] END max_depth=12, min_samples_split=50;, score=(train=-0.100, test=-0.119) total time=   0.1s\n",
      "[CV 1/10] END max_depth=12, min_samples_split=70;, score=(train=-0.103, test=-0.126) total time=   0.1s\n",
      "[CV 2/10] END max_depth=12, min_samples_split=70;, score=(train=-0.105, test=-0.115) total time=   0.1s\n",
      "[CV 3/10] END max_depth=12, min_samples_split=70;, score=(train=-0.106, test=-0.121) total time=   0.1s\n",
      "[CV 4/10] END max_depth=12, min_samples_split=70;, score=(train=-0.105, test=-0.122) total time=   0.1s\n",
      "[CV 5/10] END max_depth=12, min_samples_split=70;, score=(train=-0.103, test=-0.116) total time=   0.1s\n",
      "[CV 6/10] END max_depth=12, min_samples_split=70;, score=(train=-0.105, test=-0.118) total time=   0.1s\n",
      "[CV 7/10] END max_depth=12, min_samples_split=70;, score=(train=-0.105, test=-0.123) total time=   0.1s\n",
      "[CV 8/10] END max_depth=12, min_samples_split=70;, score=(train=-0.106, test=-0.116) total time=   0.1s\n",
      "[CV 9/10] END max_depth=12, min_samples_split=70;, score=(train=-0.105, test=-0.117) total time=   0.1s\n",
      "[CV 10/10] END max_depth=12, min_samples_split=70;, score=(train=-0.105, test=-0.120) total time=   0.1s\n",
      "[CV 1/10] END max_depth=12, min_samples_split=100;, score=(train=-0.109, test=-0.129) total time=   0.1s\n",
      "[CV 2/10] END max_depth=12, min_samples_split=100;, score=(train=-0.111, test=-0.119) total time=   0.1s\n",
      "[CV 3/10] END max_depth=12, min_samples_split=100;, score=(train=-0.112, test=-0.124) total time=   0.1s\n",
      "[CV 4/10] END max_depth=12, min_samples_split=100;, score=(train=-0.111, test=-0.124) total time=   0.1s\n",
      "[CV 5/10] END max_depth=12, min_samples_split=100;, score=(train=-0.110, test=-0.119) total time=   0.1s\n",
      "[CV 6/10] END max_depth=12, min_samples_split=100;, score=(train=-0.112, test=-0.123) total time=   0.1s\n",
      "[CV 7/10] END max_depth=12, min_samples_split=100;, score=(train=-0.110, test=-0.126) total time=   0.1s\n",
      "[CV 8/10] END max_depth=12, min_samples_split=100;, score=(train=-0.111, test=-0.119) total time=   0.1s\n",
      "[CV 9/10] END max_depth=12, min_samples_split=100;, score=(train=-0.110, test=-0.121) total time=   0.1s\n"
     ]
    },
    {
     "name": "stdout",
     "output_type": "stream",
     "text": [
      "[CV 10/10] END max_depth=12, min_samples_split=100;, score=(train=-0.111, test=-0.123) total time=   0.1s\n",
      "[CV 1/10] END max_depth=13, min_samples_split=30;, score=(train=-0.087, test=-0.123) total time=   0.1s\n",
      "[CV 2/10] END max_depth=13, min_samples_split=30;, score=(train=-0.089, test=-0.111) total time=   0.1s\n",
      "[CV 3/10] END max_depth=13, min_samples_split=30;, score=(train=-0.088, test=-0.114) total time=   0.1s\n",
      "[CV 4/10] END max_depth=13, min_samples_split=30;, score=(train=-0.088, test=-0.115) total time=   0.1s\n",
      "[CV 5/10] END max_depth=13, min_samples_split=30;, score=(train=-0.087, test=-0.109) total time=   0.1s\n",
      "[CV 6/10] END max_depth=13, min_samples_split=30;, score=(train=-0.088, test=-0.112) total time=   0.1s\n",
      "[CV 7/10] END max_depth=13, min_samples_split=30;, score=(train=-0.088, test=-0.118) total time=   0.1s\n",
      "[CV 8/10] END max_depth=13, min_samples_split=30;, score=(train=-0.089, test=-0.112) total time=   0.1s\n",
      "[CV 9/10] END max_depth=13, min_samples_split=30;, score=(train=-0.089, test=-0.113) total time=   0.1s\n",
      "[CV 10/10] END max_depth=13, min_samples_split=30;, score=(train=-0.088, test=-0.116) total time=   0.1s\n",
      "[CV 1/10] END max_depth=13, min_samples_split=50;, score=(train=-0.095, test=-0.124) total time=   0.1s\n",
      "[CV 2/10] END max_depth=13, min_samples_split=50;, score=(train=-0.097, test=-0.113) total time=   0.1s\n",
      "[CV 3/10] END max_depth=13, min_samples_split=50;, score=(train=-0.098, test=-0.117) total time=   0.1s\n",
      "[CV 4/10] END max_depth=13, min_samples_split=50;, score=(train=-0.096, test=-0.117) total time=   0.1s\n",
      "[CV 5/10] END max_depth=13, min_samples_split=50;, score=(train=-0.096, test=-0.112) total time=   0.1s\n",
      "[CV 6/10] END max_depth=13, min_samples_split=50;, score=(train=-0.097, test=-0.118) total time=   0.1s\n",
      "[CV 7/10] END max_depth=13, min_samples_split=50;, score=(train=-0.097, test=-0.120) total time=   0.2s\n",
      "[CV 8/10] END max_depth=13, min_samples_split=50;, score=(train=-0.098, test=-0.113) total time=   0.1s\n",
      "[CV 9/10] END max_depth=13, min_samples_split=50;, score=(train=-0.097, test=-0.114) total time=   0.1s\n",
      "[CV 10/10] END max_depth=13, min_samples_split=50;, score=(train=-0.097, test=-0.118) total time=   0.2s\n",
      "[CV 1/10] END max_depth=13, min_samples_split=70;, score=(train=-0.101, test=-0.124) total time=   0.2s\n",
      "[CV 2/10] END max_depth=13, min_samples_split=70;, score=(train=-0.103, test=-0.113) total time=   0.1s\n",
      "[CV 3/10] END max_depth=13, min_samples_split=70;, score=(train=-0.103, test=-0.119) total time=   0.1s\n",
      "[CV 4/10] END max_depth=13, min_samples_split=70;, score=(train=-0.103, test=-0.119) total time=   0.1s\n",
      "[CV 5/10] END max_depth=13, min_samples_split=70;, score=(train=-0.102, test=-0.114) total time=   0.1s\n",
      "[CV 6/10] END max_depth=13, min_samples_split=70;, score=(train=-0.103, test=-0.116) total time=   0.1s\n",
      "[CV 7/10] END max_depth=13, min_samples_split=70;, score=(train=-0.103, test=-0.122) total time=   0.1s\n",
      "[CV 8/10] END max_depth=13, min_samples_split=70;, score=(train=-0.104, test=-0.114) total time=   0.1s\n",
      "[CV 9/10] END max_depth=13, min_samples_split=70;, score=(train=-0.103, test=-0.117) total time=   0.2s\n",
      "[CV 10/10] END max_depth=13, min_samples_split=70;, score=(train=-0.103, test=-0.119) total time=   0.1s\n",
      "[CV 1/10] END max_depth=13, min_samples_split=100;, score=(train=-0.108, test=-0.127) total time=   0.1s\n",
      "[CV 2/10] END max_depth=13, min_samples_split=100;, score=(train=-0.110, test=-0.118) total time=   0.1s\n",
      "[CV 3/10] END max_depth=13, min_samples_split=100;, score=(train=-0.110, test=-0.123) total time=   0.1s\n",
      "[CV 4/10] END max_depth=13, min_samples_split=100;, score=(train=-0.110, test=-0.122) total time=   0.1s\n",
      "[CV 5/10] END max_depth=13, min_samples_split=100;, score=(train=-0.109, test=-0.119) total time=   0.1s\n",
      "[CV 6/10] END max_depth=13, min_samples_split=100;, score=(train=-0.110, test=-0.123) total time=   0.1s\n",
      "[CV 7/10] END max_depth=13, min_samples_split=100;, score=(train=-0.109, test=-0.126) total time=   0.1s\n",
      "[CV 8/10] END max_depth=13, min_samples_split=100;, score=(train=-0.110, test=-0.118) total time=   0.1s\n",
      "[CV 9/10] END max_depth=13, min_samples_split=100;, score=(train=-0.109, test=-0.119) total time=   0.1s\n",
      "[CV 10/10] END max_depth=13, min_samples_split=100;, score=(train=-0.110, test=-0.123) total time=   0.1s\n",
      "[CV 1/10] END max_depth=14, min_samples_split=30;, score=(train=-0.084, test=-0.121) total time=   0.2s\n",
      "[CV 2/10] END max_depth=14, min_samples_split=30;, score=(train=-0.086, test=-0.111) total time=   0.2s\n",
      "[CV 3/10] END max_depth=14, min_samples_split=30;, score=(train=-0.085, test=-0.114) total time=   0.1s\n",
      "[CV 4/10] END max_depth=14, min_samples_split=30;, score=(train=-0.085, test=-0.113) total time=   0.1s\n",
      "[CV 5/10] END max_depth=14, min_samples_split=30;, score=(train=-0.085, test=-0.109) total time=   0.1s\n",
      "[CV 6/10] END max_depth=14, min_samples_split=30;, score=(train=-0.085, test=-0.112) total time=   0.1s\n",
      "[CV 7/10] END max_depth=14, min_samples_split=30;, score=(train=-0.085, test=-0.117) total time=   0.1s\n",
      "[CV 8/10] END max_depth=14, min_samples_split=30;, score=(train=-0.086, test=-0.112) total time=   0.1s\n",
      "[CV 9/10] END max_depth=14, min_samples_split=30;, score=(train=-0.085, test=-0.112) total time=   0.2s\n",
      "[CV 10/10] END max_depth=14, min_samples_split=30;, score=(train=-0.085, test=-0.116) total time=   0.2s\n",
      "[CV 1/10] END max_depth=14, min_samples_split=50;, score=(train=-0.094, test=-0.123) total time=   0.2s\n",
      "[CV 2/10] END max_depth=14, min_samples_split=50;, score=(train=-0.095, test=-0.112) total time=   0.1s\n",
      "[CV 3/10] END max_depth=14, min_samples_split=50;, score=(train=-0.096, test=-0.117) total time=   0.2s\n",
      "[CV 4/10] END max_depth=14, min_samples_split=50;, score=(train=-0.095, test=-0.116) total time=   0.1s\n",
      "[CV 5/10] END max_depth=14, min_samples_split=50;, score=(train=-0.095, test=-0.112) total time=   0.1s\n",
      "[CV 6/10] END max_depth=14, min_samples_split=50;, score=(train=-0.095, test=-0.118) total time=   0.1s\n",
      "[CV 7/10] END max_depth=14, min_samples_split=50;, score=(train=-0.095, test=-0.119) total time=   0.1s\n",
      "[CV 8/10] END max_depth=14, min_samples_split=50;, score=(train=-0.096, test=-0.113) total time=   0.1s\n",
      "[CV 9/10] END max_depth=14, min_samples_split=50;, score=(train=-0.095, test=-0.113) total time=   0.1s\n",
      "[CV 10/10] END max_depth=14, min_samples_split=50;, score=(train=-0.096, test=-0.113) total time=   0.1s\n",
      "[CV 1/10] END max_depth=14, min_samples_split=70;, score=(train=-0.101, test=-0.123) total time=   0.1s\n",
      "[CV 2/10] END max_depth=14, min_samples_split=70;, score=(train=-0.102, test=-0.113) total time=   0.1s\n",
      "[CV 3/10] END max_depth=14, min_samples_split=70;, score=(train=-0.102, test=-0.119) total time=   0.1s\n",
      "[CV 4/10] END max_depth=14, min_samples_split=70;, score=(train=-0.102, test=-0.118) total time=   0.1s\n",
      "[CV 5/10] END max_depth=14, min_samples_split=70;, score=(train=-0.101, test=-0.114) total time=   0.1s\n",
      "[CV 6/10] END max_depth=14, min_samples_split=70;, score=(train=-0.102, test=-0.116) total time=   0.1s\n",
      "[CV 7/10] END max_depth=14, min_samples_split=70;, score=(train=-0.102, test=-0.122) total time=   0.1s\n",
      "[CV 8/10] END max_depth=14, min_samples_split=70;, score=(train=-0.103, test=-0.115) total time=   0.1s\n",
      "[CV 9/10] END max_depth=14, min_samples_split=70;, score=(train=-0.102, test=-0.117) total time=   0.1s\n",
      "[CV 10/10] END max_depth=14, min_samples_split=70;, score=(train=-0.102, test=-0.119) total time=   0.1s\n",
      "[CV 1/10] END max_depth=14, min_samples_split=100;, score=(train=-0.108, test=-0.127) total time=   0.1s\n",
      "[CV 2/10] END max_depth=14, min_samples_split=100;, score=(train=-0.109, test=-0.117) total time=   0.1s\n",
      "[CV 3/10] END max_depth=14, min_samples_split=100;, score=(train=-0.110, test=-0.122) total time=   0.1s\n",
      "[CV 4/10] END max_depth=14, min_samples_split=100;, score=(train=-0.109, test=-0.121) total time=   0.1s\n",
      "[CV 5/10] END max_depth=14, min_samples_split=100;, score=(train=-0.109, test=-0.118) total time=   0.1s\n",
      "[CV 6/10] END max_depth=14, min_samples_split=100;, score=(train=-0.110, test=-0.123) total time=   0.1s\n",
      "[CV 7/10] END max_depth=14, min_samples_split=100;, score=(train=-0.108, test=-0.125) total time=   0.1s\n",
      "[CV 8/10] END max_depth=14, min_samples_split=100;, score=(train=-0.109, test=-0.118) total time=   0.1s\n",
      "[CV 9/10] END max_depth=14, min_samples_split=100;, score=(train=-0.108, test=-0.119) total time=   0.1s\n"
     ]
    },
    {
     "name": "stdout",
     "output_type": "stream",
     "text": [
      "[CV 10/10] END max_depth=14, min_samples_split=100;, score=(train=-0.109, test=-0.122) total time=   0.1s\n",
      "[CV 1/10] END max_depth=15, min_samples_split=30;, score=(train=-0.083, test=-0.119) total time=   0.1s\n",
      "[CV 2/10] END max_depth=15, min_samples_split=30;, score=(train=-0.084, test=-0.111) total time=   0.1s\n",
      "[CV 3/10] END max_depth=15, min_samples_split=30;, score=(train=-0.083, test=-0.113) total time=   0.1s\n",
      "[CV 4/10] END max_depth=15, min_samples_split=30;, score=(train=-0.083, test=-0.113) total time=   0.1s\n",
      "[CV 5/10] END max_depth=15, min_samples_split=30;, score=(train=-0.083, test=-0.110) total time=   0.1s\n",
      "[CV 6/10] END max_depth=15, min_samples_split=30;, score=(train=-0.084, test=-0.112) total time=   0.1s\n",
      "[CV 7/10] END max_depth=15, min_samples_split=30;, score=(train=-0.083, test=-0.116) total time=   0.1s\n",
      "[CV 8/10] END max_depth=15, min_samples_split=30;, score=(train=-0.084, test=-0.111) total time=   0.1s\n",
      "[CV 9/10] END max_depth=15, min_samples_split=30;, score=(train=-0.083, test=-0.113) total time=   0.1s\n",
      "[CV 10/10] END max_depth=15, min_samples_split=30;, score=(train=-0.084, test=-0.116) total time=   0.1s\n",
      "[CV 1/10] END max_depth=15, min_samples_split=50;, score=(train=-0.093, test=-0.121) total time=   0.1s\n",
      "[CV 2/10] END max_depth=15, min_samples_split=50;, score=(train=-0.094, test=-0.112) total time=   0.1s\n",
      "[CV 3/10] END max_depth=15, min_samples_split=50;, score=(train=-0.095, test=-0.117) total time=   0.1s\n",
      "[CV 4/10] END max_depth=15, min_samples_split=50;, score=(train=-0.094, test=-0.116) total time=   0.1s\n",
      "[CV 5/10] END max_depth=15, min_samples_split=50;, score=(train=-0.094, test=-0.112) total time=   0.1s\n",
      "[CV 6/10] END max_depth=15, min_samples_split=50;, score=(train=-0.094, test=-0.114) total time=   0.1s\n",
      "[CV 7/10] END max_depth=15, min_samples_split=50;, score=(train=-0.094, test=-0.119) total time=   0.1s\n",
      "[CV 8/10] END max_depth=15, min_samples_split=50;, score=(train=-0.095, test=-0.113) total time=   0.1s\n",
      "[CV 9/10] END max_depth=15, min_samples_split=50;, score=(train=-0.094, test=-0.113) total time=   0.1s\n",
      "[CV 10/10] END max_depth=15, min_samples_split=50;, score=(train=-0.095, test=-0.118) total time=   0.1s\n",
      "[CV 1/10] END max_depth=15, min_samples_split=70;, score=(train=-0.100, test=-0.125) total time=   0.1s\n",
      "[CV 2/10] END max_depth=15, min_samples_split=70;, score=(train=-0.101, test=-0.113) total time=   0.1s\n",
      "[CV 3/10] END max_depth=15, min_samples_split=70;, score=(train=-0.102, test=-0.118) total time=   0.1s\n",
      "[CV 4/10] END max_depth=15, min_samples_split=70;, score=(train=-0.102, test=-0.119) total time=   0.1s\n",
      "[CV 5/10] END max_depth=15, min_samples_split=70;, score=(train=-0.101, test=-0.114) total time=   0.1s\n",
      "[CV 6/10] END max_depth=15, min_samples_split=70;, score=(train=-0.102, test=-0.116) total time=   0.1s\n",
      "[CV 7/10] END max_depth=15, min_samples_split=70;, score=(train=-0.102, test=-0.122) total time=   0.1s\n",
      "[CV 8/10] END max_depth=15, min_samples_split=70;, score=(train=-0.102, test=-0.114) total time=   0.1s\n",
      "[CV 9/10] END max_depth=15, min_samples_split=70;, score=(train=-0.101, test=-0.116) total time=   0.1s\n",
      "[CV 10/10] END max_depth=15, min_samples_split=70;, score=(train=-0.102, test=-0.119) total time=   0.1s\n",
      "[CV 1/10] END max_depth=15, min_samples_split=100;, score=(train=-0.108, test=-0.129) total time=   0.1s\n",
      "[CV 2/10] END max_depth=15, min_samples_split=100;, score=(train=-0.109, test=-0.118) total time=   0.1s\n",
      "[CV 3/10] END max_depth=15, min_samples_split=100;, score=(train=-0.109, test=-0.122) total time=   0.1s\n",
      "[CV 4/10] END max_depth=15, min_samples_split=100;, score=(train=-0.109, test=-0.123) total time=   0.1s\n",
      "[CV 5/10] END max_depth=15, min_samples_split=100;, score=(train=-0.109, test=-0.118) total time=   0.1s\n",
      "[CV 6/10] END max_depth=15, min_samples_split=100;, score=(train=-0.110, test=-0.122) total time=   0.1s\n",
      "[CV 7/10] END max_depth=15, min_samples_split=100;, score=(train=-0.108, test=-0.125) total time=   0.1s\n",
      "[CV 8/10] END max_depth=15, min_samples_split=100;, score=(train=-0.109, test=-0.118) total time=   0.1s\n",
      "[CV 9/10] END max_depth=15, min_samples_split=100;, score=(train=-0.108, test=-0.119) total time=   0.1s\n",
      "[CV 10/10] END max_depth=15, min_samples_split=100;, score=(train=-0.109, test=-0.122) total time=   0.1s\n",
      "CPU times: user 29 s, sys: 227 ms, total: 29.2 s\n",
      "Wall time: 29.1 s\n"
     ]
    },
    {
     "data": {
      "text/plain": [
       "GridSearchCV(cv=10, estimator=DecisionTreeRegressor(),\n",
       "             param_grid={'max_depth': [11, 12, 13, 14, 15],\n",
       "                         'min_samples_split': [30, 50, 70, 100]},\n",
       "             return_train_score=True, scoring='neg_root_mean_squared_error',\n",
       "             verbose=3)"
      ]
     },
     "execution_count": 58,
     "metadata": {},
     "output_type": "execute_result"
    }
   ],
   "source": [
    "%%time\n",
    "gs.fit(X_train, y_train)"
   ]
  },
  {
   "cell_type": "code",
   "execution_count": 59,
   "metadata": {},
   "outputs": [],
   "source": [
    "grid_search_results = pd.DataFrame(gs.cv_results_)\n",
    "grid_search_results = grid_search_results[['param_max_depth', 'param_min_samples_split',\n",
    "       'mean_test_score', 'mean_train_score']]"
   ]
  },
  {
   "cell_type": "code",
   "execution_count": 60,
   "metadata": {
    "scrolled": true
   },
   "outputs": [
    {
     "data": {
      "text/html": [
       "<div>\n",
       "<style scoped>\n",
       "    .dataframe tbody tr th:only-of-type {\n",
       "        vertical-align: middle;\n",
       "    }\n",
       "\n",
       "    .dataframe tbody tr th {\n",
       "        vertical-align: top;\n",
       "    }\n",
       "\n",
       "    .dataframe thead th {\n",
       "        text-align: right;\n",
       "    }\n",
       "</style>\n",
       "<table border=\"1\" class=\"dataframe\">\n",
       "  <thead>\n",
       "    <tr style=\"text-align: right;\">\n",
       "      <th></th>\n",
       "      <th>param_max_depth</th>\n",
       "      <th>param_min_samples_split</th>\n",
       "      <th>mean_test_score</th>\n",
       "      <th>mean_train_score</th>\n",
       "    </tr>\n",
       "  </thead>\n",
       "  <tbody>\n",
       "    <tr>\n",
       "      <th>16</th>\n",
       "      <td>15</td>\n",
       "      <td>30</td>\n",
       "      <td>-0.113427</td>\n",
       "      <td>-0.083404</td>\n",
       "    </tr>\n",
       "    <tr>\n",
       "      <th>12</th>\n",
       "      <td>14</td>\n",
       "      <td>30</td>\n",
       "      <td>-0.113737</td>\n",
       "      <td>-0.085112</td>\n",
       "    </tr>\n",
       "    <tr>\n",
       "      <th>8</th>\n",
       "      <td>13</td>\n",
       "      <td>30</td>\n",
       "      <td>-0.114382</td>\n",
       "      <td>-0.088066</td>\n",
       "    </tr>\n",
       "    <tr>\n",
       "      <th>17</th>\n",
       "      <td>15</td>\n",
       "      <td>50</td>\n",
       "      <td>-0.115381</td>\n",
       "      <td>-0.094389</td>\n",
       "    </tr>\n",
       "    <tr>\n",
       "      <th>13</th>\n",
       "      <td>14</td>\n",
       "      <td>50</td>\n",
       "      <td>-0.115560</td>\n",
       "      <td>-0.095161</td>\n",
       "    </tr>\n",
       "    <tr>\n",
       "      <th>4</th>\n",
       "      <td>12</td>\n",
       "      <td>30</td>\n",
       "      <td>-0.115796</td>\n",
       "      <td>-0.092902</td>\n",
       "    </tr>\n",
       "    <tr>\n",
       "      <th>9</th>\n",
       "      <td>13</td>\n",
       "      <td>50</td>\n",
       "      <td>-0.116563</td>\n",
       "      <td>-0.096728</td>\n",
       "    </tr>\n",
       "    <tr>\n",
       "      <th>18</th>\n",
       "      <td>15</td>\n",
       "      <td>70</td>\n",
       "      <td>-0.117467</td>\n",
       "      <td>-0.101445</td>\n",
       "    </tr>\n",
       "    <tr>\n",
       "      <th>14</th>\n",
       "      <td>14</td>\n",
       "      <td>70</td>\n",
       "      <td>-0.117624</td>\n",
       "      <td>-0.101862</td>\n",
       "    </tr>\n",
       "    <tr>\n",
       "      <th>5</th>\n",
       "      <td>12</td>\n",
       "      <td>50</td>\n",
       "      <td>-0.117752</td>\n",
       "      <td>-0.099687</td>\n",
       "    </tr>\n",
       "    <tr>\n",
       "      <th>10</th>\n",
       "      <td>13</td>\n",
       "      <td>70</td>\n",
       "      <td>-0.117884</td>\n",
       "      <td>-0.102747</td>\n",
       "    </tr>\n",
       "    <tr>\n",
       "      <th>0</th>\n",
       "      <td>11</td>\n",
       "      <td>30</td>\n",
       "      <td>-0.118236</td>\n",
       "      <td>-0.099441</td>\n",
       "    </tr>\n",
       "    <tr>\n",
       "      <th>6</th>\n",
       "      <td>12</td>\n",
       "      <td>70</td>\n",
       "      <td>-0.119226</td>\n",
       "      <td>-0.104695</td>\n",
       "    </tr>\n",
       "    <tr>\n",
       "      <th>1</th>\n",
       "      <td>11</td>\n",
       "      <td>50</td>\n",
       "      <td>-0.119797</td>\n",
       "      <td>-0.104280</td>\n",
       "    </tr>\n",
       "    <tr>\n",
       "      <th>2</th>\n",
       "      <td>11</td>\n",
       "      <td>70</td>\n",
       "      <td>-0.120928</td>\n",
       "      <td>-0.108014</td>\n",
       "    </tr>\n",
       "    <tr>\n",
       "      <th>15</th>\n",
       "      <td>14</td>\n",
       "      <td>100</td>\n",
       "      <td>-0.121439</td>\n",
       "      <td>-0.108993</td>\n",
       "    </tr>\n",
       "    <tr>\n",
       "      <th>11</th>\n",
       "      <td>13</td>\n",
       "      <td>100</td>\n",
       "      <td>-0.121680</td>\n",
       "      <td>-0.109491</td>\n",
       "    </tr>\n",
       "    <tr>\n",
       "      <th>19</th>\n",
       "      <td>15</td>\n",
       "      <td>100</td>\n",
       "      <td>-0.121764</td>\n",
       "      <td>-0.108819</td>\n",
       "    </tr>\n",
       "    <tr>\n",
       "      <th>7</th>\n",
       "      <td>12</td>\n",
       "      <td>100</td>\n",
       "      <td>-0.122854</td>\n",
       "      <td>-0.110736</td>\n",
       "    </tr>\n",
       "    <tr>\n",
       "      <th>3</th>\n",
       "      <td>11</td>\n",
       "      <td>100</td>\n",
       "      <td>-0.124177</td>\n",
       "      <td>-0.112882</td>\n",
       "    </tr>\n",
       "  </tbody>\n",
       "</table>\n",
       "</div>"
      ],
      "text/plain": [
       "   param_max_depth param_min_samples_split  mean_test_score  mean_train_score\n",
       "16              15                      30        -0.113427         -0.083404\n",
       "12              14                      30        -0.113737         -0.085112\n",
       "8               13                      30        -0.114382         -0.088066\n",
       "17              15                      50        -0.115381         -0.094389\n",
       "13              14                      50        -0.115560         -0.095161\n",
       "4               12                      30        -0.115796         -0.092902\n",
       "9               13                      50        -0.116563         -0.096728\n",
       "18              15                      70        -0.117467         -0.101445\n",
       "14              14                      70        -0.117624         -0.101862\n",
       "5               12                      50        -0.117752         -0.099687\n",
       "10              13                      70        -0.117884         -0.102747\n",
       "0               11                      30        -0.118236         -0.099441\n",
       "6               12                      70        -0.119226         -0.104695\n",
       "1               11                      50        -0.119797         -0.104280\n",
       "2               11                      70        -0.120928         -0.108014\n",
       "15              14                     100        -0.121439         -0.108993\n",
       "11              13                     100        -0.121680         -0.109491\n",
       "19              15                     100        -0.121764         -0.108819\n",
       "7               12                     100        -0.122854         -0.110736\n",
       "3               11                     100        -0.124177         -0.112882"
      ]
     },
     "execution_count": 60,
     "metadata": {},
     "output_type": "execute_result"
    }
   ],
   "source": [
    "grid_search_results.sort_values(\"mean_test_score\", ascending=False)"
   ]
  },
  {
   "cell_type": "code",
   "execution_count": 61,
   "metadata": {},
   "outputs": [
    {
     "data": {
      "text/plain": [
       "DecisionTreeRegressor(max_depth=15, min_samples_split=30)"
      ]
     },
     "execution_count": 61,
     "metadata": {},
     "output_type": "execute_result"
    }
   ],
   "source": [
    "best_tree = gs.best_estimator_\n",
    "best_tree"
   ]
  },
  {
   "cell_type": "code",
   "execution_count": null,
   "metadata": {},
   "outputs": [],
   "source": []
  },
  {
   "cell_type": "code",
   "execution_count": null,
   "metadata": {},
   "outputs": [],
   "source": []
  },
  {
   "cell_type": "code",
   "execution_count": 67,
   "metadata": {},
   "outputs": [],
   "source": [
    "tree_model2 = DecisionTreeRegressor(max_depth=15, min_samples_split=30)"
   ]
  },
  {
   "cell_type": "code",
   "execution_count": 68,
   "metadata": {},
   "outputs": [
    {
     "data": {
      "text/plain": [
       "DecisionTreeRegressor(max_depth=15, min_samples_split=30)"
      ]
     },
     "execution_count": 68,
     "metadata": {},
     "output_type": "execute_result"
    }
   ],
   "source": [
    "tree_model2.fit(X_train, y_train)"
   ]
  },
  {
   "cell_type": "code",
   "execution_count": 69,
   "metadata": {},
   "outputs": [],
   "source": [
    "y_test_pred = tree_model2.predict(X_test)"
   ]
  },
  {
   "cell_type": "code",
   "execution_count": 70,
   "metadata": {},
   "outputs": [
    {
     "data": {
      "text/plain": [
       "0.11079182071865772"
      ]
     },
     "execution_count": 70,
     "metadata": {},
     "output_type": "execute_result"
    }
   ],
   "source": [
    "(mean_squared_error(y_test, y_test_pred)) ** 0.5"
   ]
  },
  {
   "cell_type": "code",
   "execution_count": null,
   "metadata": {},
   "outputs": [],
   "source": []
  },
  {
   "cell_type": "markdown",
   "metadata": {},
   "source": [
    "#### RANDOM FOREST (BASADO EN EL GRID SEARCH ANTERIOR)"
   ]
  },
  {
   "cell_type": "code",
   "execution_count": 71,
   "metadata": {},
   "outputs": [
    {
     "data": {
      "text/plain": [
       "RandomForestRegressor(max_depth=15, max_features=8, min_samples_split=30,\n",
       "                      n_estimators=50)"
      ]
     },
     "execution_count": 71,
     "metadata": {},
     "output_type": "execute_result"
    }
   ],
   "source": [
    "random_forest = RandomForestRegressor(n_estimators=50, max_features=8, max_depth=15, min_samples_split=30)\n",
    "random_forest.fit(X_train, y_train)"
   ]
  },
  {
   "cell_type": "code",
   "execution_count": 72,
   "metadata": {},
   "outputs": [],
   "source": [
    "y_test_pred = random_forest.predict(X_test)"
   ]
  },
  {
   "cell_type": "code",
   "execution_count": 73,
   "metadata": {},
   "outputs": [
    {
     "data": {
      "text/plain": [
       "0.09594861709875653"
      ]
     },
     "execution_count": 73,
     "metadata": {},
     "output_type": "execute_result"
    }
   ],
   "source": [
    "(mean_squared_error(y_test, y_test_pred)) ** 0.5"
   ]
  },
  {
   "cell_type": "code",
   "execution_count": null,
   "metadata": {},
   "outputs": [],
   "source": []
  },
  {
   "cell_type": "code",
   "execution_count": null,
   "metadata": {},
   "outputs": [],
   "source": []
  },
  {
   "cell_type": "code",
   "execution_count": null,
   "metadata": {},
   "outputs": [],
   "source": []
  },
  {
   "cell_type": "code",
   "execution_count": null,
   "metadata": {},
   "outputs": [],
   "source": []
  },
  {
   "cell_type": "code",
   "execution_count": null,
   "metadata": {},
   "outputs": [],
   "source": []
  },
  {
   "cell_type": "code",
   "execution_count": null,
   "metadata": {},
   "outputs": [],
   "source": []
  },
  {
   "cell_type": "code",
   "execution_count": 78,
   "metadata": {},
   "outputs": [
    {
     "data": {
      "text/html": [
       "<div>\n",
       "<style scoped>\n",
       "    .dataframe tbody tr th:only-of-type {\n",
       "        vertical-align: middle;\n",
       "    }\n",
       "\n",
       "    .dataframe tbody tr th {\n",
       "        vertical-align: top;\n",
       "    }\n",
       "\n",
       "    .dataframe thead th {\n",
       "        text-align: right;\n",
       "    }\n",
       "</style>\n",
       "<table border=\"1\" class=\"dataframe\">\n",
       "  <thead>\n",
       "    <tr style=\"text-align: right;\">\n",
       "      <th></th>\n",
       "      <th>id</th>\n",
       "      <th>carat</th>\n",
       "      <th>cut</th>\n",
       "      <th>color</th>\n",
       "      <th>clarity</th>\n",
       "      <th>depth</th>\n",
       "      <th>table</th>\n",
       "      <th>x</th>\n",
       "      <th>y</th>\n",
       "      <th>z</th>\n",
       "    </tr>\n",
       "  </thead>\n",
       "  <tbody>\n",
       "    <tr>\n",
       "      <th>0</th>\n",
       "      <td>0</td>\n",
       "      <td>0.32</td>\n",
       "      <td>Ideal</td>\n",
       "      <td>I</td>\n",
       "      <td>SI1</td>\n",
       "      <td>60.5</td>\n",
       "      <td>58.0</td>\n",
       "      <td>4.43</td>\n",
       "      <td>4.49</td>\n",
       "      <td>2.70</td>\n",
       "    </tr>\n",
       "    <tr>\n",
       "      <th>1</th>\n",
       "      <td>1</td>\n",
       "      <td>1.24</td>\n",
       "      <td>Premium</td>\n",
       "      <td>I</td>\n",
       "      <td>SI1</td>\n",
       "      <td>62.9</td>\n",
       "      <td>60.0</td>\n",
       "      <td>6.80</td>\n",
       "      <td>6.74</td>\n",
       "      <td>4.26</td>\n",
       "    </tr>\n",
       "    <tr>\n",
       "      <th>2</th>\n",
       "      <td>2</td>\n",
       "      <td>1.66</td>\n",
       "      <td>Premium</td>\n",
       "      <td>D</td>\n",
       "      <td>SI1</td>\n",
       "      <td>62.0</td>\n",
       "      <td>59.0</td>\n",
       "      <td>7.55</td>\n",
       "      <td>7.60</td>\n",
       "      <td>4.70</td>\n",
       "    </tr>\n",
       "    <tr>\n",
       "      <th>3</th>\n",
       "      <td>3</td>\n",
       "      <td>0.75</td>\n",
       "      <td>Premium</td>\n",
       "      <td>D</td>\n",
       "      <td>SI2</td>\n",
       "      <td>60.6</td>\n",
       "      <td>56.0</td>\n",
       "      <td>5.94</td>\n",
       "      <td>5.90</td>\n",
       "      <td>3.59</td>\n",
       "    </tr>\n",
       "    <tr>\n",
       "      <th>4</th>\n",
       "      <td>4</td>\n",
       "      <td>1.50</td>\n",
       "      <td>Fair</td>\n",
       "      <td>E</td>\n",
       "      <td>SI2</td>\n",
       "      <td>64.8</td>\n",
       "      <td>55.0</td>\n",
       "      <td>7.26</td>\n",
       "      <td>7.15</td>\n",
       "      <td>4.67</td>\n",
       "    </tr>\n",
       "  </tbody>\n",
       "</table>\n",
       "</div>"
      ],
      "text/plain": [
       "   id  carat      cut color clarity  depth  table     x     y     z\n",
       "0   0   0.32    Ideal     I     SI1   60.5   58.0  4.43  4.49  2.70\n",
       "1   1   1.24  Premium     I     SI1   62.9   60.0  6.80  6.74  4.26\n",
       "2   2   1.66  Premium     D     SI1   62.0   59.0  7.55  7.60  4.70\n",
       "3   3   0.75  Premium     D     SI2   60.6   56.0  5.94  5.90  3.59\n",
       "4   4   1.50     Fair     E     SI2   64.8   55.0  7.26  7.15  4.67"
      ]
     },
     "execution_count": 78,
     "metadata": {},
     "output_type": "execute_result"
    }
   ],
   "source": [
    "diamonds_test.head()"
   ]
  },
  {
   "cell_type": "code",
   "execution_count": 79,
   "metadata": {},
   "outputs": [],
   "source": [
    "diamonds_test.clarity = diamonds_test.clarity.map(dic_clarity)"
   ]
  },
  {
   "cell_type": "code",
   "execution_count": 80,
   "metadata": {},
   "outputs": [],
   "source": [
    "diamonds_test.color = diamonds_test.color.map(dic_color)"
   ]
  },
  {
   "cell_type": "code",
   "execution_count": 81,
   "metadata": {},
   "outputs": [],
   "source": [
    "diamonds_test.cut = diamonds_test.cut.map(dic_cut)"
   ]
  },
  {
   "cell_type": "code",
   "execution_count": 82,
   "metadata": {},
   "outputs": [
    {
     "data": {
      "text/html": [
       "<div>\n",
       "<style scoped>\n",
       "    .dataframe tbody tr th:only-of-type {\n",
       "        vertical-align: middle;\n",
       "    }\n",
       "\n",
       "    .dataframe tbody tr th {\n",
       "        vertical-align: top;\n",
       "    }\n",
       "\n",
       "    .dataframe thead th {\n",
       "        text-align: right;\n",
       "    }\n",
       "</style>\n",
       "<table border=\"1\" class=\"dataframe\">\n",
       "  <thead>\n",
       "    <tr style=\"text-align: right;\">\n",
       "      <th></th>\n",
       "      <th>id</th>\n",
       "      <th>carat</th>\n",
       "      <th>cut</th>\n",
       "      <th>color</th>\n",
       "      <th>clarity</th>\n",
       "      <th>depth</th>\n",
       "      <th>table</th>\n",
       "      <th>x</th>\n",
       "      <th>y</th>\n",
       "      <th>z</th>\n",
       "    </tr>\n",
       "  </thead>\n",
       "  <tbody>\n",
       "    <tr>\n",
       "      <th>0</th>\n",
       "      <td>0</td>\n",
       "      <td>0.32</td>\n",
       "      <td>1</td>\n",
       "      <td>6</td>\n",
       "      <td>3</td>\n",
       "      <td>60.5</td>\n",
       "      <td>58.0</td>\n",
       "      <td>4.43</td>\n",
       "      <td>4.49</td>\n",
       "      <td>2.70</td>\n",
       "    </tr>\n",
       "    <tr>\n",
       "      <th>1</th>\n",
       "      <td>1</td>\n",
       "      <td>1.24</td>\n",
       "      <td>2</td>\n",
       "      <td>6</td>\n",
       "      <td>3</td>\n",
       "      <td>62.9</td>\n",
       "      <td>60.0</td>\n",
       "      <td>6.80</td>\n",
       "      <td>6.74</td>\n",
       "      <td>4.26</td>\n",
       "    </tr>\n",
       "    <tr>\n",
       "      <th>2</th>\n",
       "      <td>2</td>\n",
       "      <td>1.66</td>\n",
       "      <td>2</td>\n",
       "      <td>1</td>\n",
       "      <td>3</td>\n",
       "      <td>62.0</td>\n",
       "      <td>59.0</td>\n",
       "      <td>7.55</td>\n",
       "      <td>7.60</td>\n",
       "      <td>4.70</td>\n",
       "    </tr>\n",
       "    <tr>\n",
       "      <th>3</th>\n",
       "      <td>3</td>\n",
       "      <td>0.75</td>\n",
       "      <td>2</td>\n",
       "      <td>1</td>\n",
       "      <td>2</td>\n",
       "      <td>60.6</td>\n",
       "      <td>56.0</td>\n",
       "      <td>5.94</td>\n",
       "      <td>5.90</td>\n",
       "      <td>3.59</td>\n",
       "    </tr>\n",
       "    <tr>\n",
       "      <th>4</th>\n",
       "      <td>4</td>\n",
       "      <td>1.50</td>\n",
       "      <td>5</td>\n",
       "      <td>2</td>\n",
       "      <td>2</td>\n",
       "      <td>64.8</td>\n",
       "      <td>55.0</td>\n",
       "      <td>7.26</td>\n",
       "      <td>7.15</td>\n",
       "      <td>4.67</td>\n",
       "    </tr>\n",
       "    <tr>\n",
       "      <th>...</th>\n",
       "      <td>...</td>\n",
       "      <td>...</td>\n",
       "      <td>...</td>\n",
       "      <td>...</td>\n",
       "      <td>...</td>\n",
       "      <td>...</td>\n",
       "      <td>...</td>\n",
       "      <td>...</td>\n",
       "      <td>...</td>\n",
       "      <td>...</td>\n",
       "    </tr>\n",
       "    <tr>\n",
       "      <th>13480</th>\n",
       "      <td>13480</td>\n",
       "      <td>1.10</td>\n",
       "      <td>2</td>\n",
       "      <td>4</td>\n",
       "      <td>3</td>\n",
       "      <td>59.6</td>\n",
       "      <td>60.0</td>\n",
       "      <td>6.74</td>\n",
       "      <td>6.70</td>\n",
       "      <td>4.00</td>\n",
       "    </tr>\n",
       "    <tr>\n",
       "      <th>13481</th>\n",
       "      <td>13481</td>\n",
       "      <td>0.90</td>\n",
       "      <td>3</td>\n",
       "      <td>1</td>\n",
       "      <td>3</td>\n",
       "      <td>62.1</td>\n",
       "      <td>60.0</td>\n",
       "      <td>6.14</td>\n",
       "      <td>6.20</td>\n",
       "      <td>3.83</td>\n",
       "    </tr>\n",
       "    <tr>\n",
       "      <th>13482</th>\n",
       "      <td>13482</td>\n",
       "      <td>0.30</td>\n",
       "      <td>1</td>\n",
       "      <td>3</td>\n",
       "      <td>4</td>\n",
       "      <td>62.1</td>\n",
       "      <td>53.3</td>\n",
       "      <td>4.30</td>\n",
       "      <td>4.32</td>\n",
       "      <td>2.68</td>\n",
       "    </tr>\n",
       "    <tr>\n",
       "      <th>13483</th>\n",
       "      <td>13483</td>\n",
       "      <td>1.25</td>\n",
       "      <td>1</td>\n",
       "      <td>6</td>\n",
       "      <td>3</td>\n",
       "      <td>59.6</td>\n",
       "      <td>59.0</td>\n",
       "      <td>7.01</td>\n",
       "      <td>7.09</td>\n",
       "      <td>4.20</td>\n",
       "    </tr>\n",
       "    <tr>\n",
       "      <th>13484</th>\n",
       "      <td>13484</td>\n",
       "      <td>0.81</td>\n",
       "      <td>2</td>\n",
       "      <td>3</td>\n",
       "      <td>3</td>\n",
       "      <td>61.6</td>\n",
       "      <td>58.0</td>\n",
       "      <td>5.96</td>\n",
       "      <td>5.92</td>\n",
       "      <td>3.66</td>\n",
       "    </tr>\n",
       "  </tbody>\n",
       "</table>\n",
       "<p>13485 rows × 10 columns</p>\n",
       "</div>"
      ],
      "text/plain": [
       "          id  carat cut color clarity  depth  table     x     y     z\n",
       "0          0   0.32   1     6       3   60.5   58.0  4.43  4.49  2.70\n",
       "1          1   1.24   2     6       3   62.9   60.0  6.80  6.74  4.26\n",
       "2          2   1.66   2     1       3   62.0   59.0  7.55  7.60  4.70\n",
       "3          3   0.75   2     1       2   60.6   56.0  5.94  5.90  3.59\n",
       "4          4   1.50   5     2       2   64.8   55.0  7.26  7.15  4.67\n",
       "...      ...    ...  ..   ...     ...    ...    ...   ...   ...   ...\n",
       "13480  13480   1.10   2     4       3   59.6   60.0  6.74  6.70  4.00\n",
       "13481  13481   0.90   3     1       3   62.1   60.0  6.14  6.20  3.83\n",
       "13482  13482   0.30   1     3       4   62.1   53.3  4.30  4.32  2.68\n",
       "13483  13483   1.25   1     6       3   59.6   59.0  7.01  7.09  4.20\n",
       "13484  13484   0.81   2     3       3   61.6   58.0  5.96  5.92  3.66\n",
       "\n",
       "[13485 rows x 10 columns]"
      ]
     },
     "execution_count": 82,
     "metadata": {},
     "output_type": "execute_result"
    }
   ],
   "source": [
    "diamonds_test"
   ]
  },
  {
   "cell_type": "code",
   "execution_count": 83,
   "metadata": {},
   "outputs": [],
   "source": [
    "y_price_pred = random_forest.predict(diamonds_test)"
   ]
  },
  {
   "cell_type": "code",
   "execution_count": 84,
   "metadata": {},
   "outputs": [
    {
     "data": {
      "text/plain": [
       "array([6.12522637, 8.53961453, 9.49095466, ..., 6.44252386, 8.74043701,\n",
       "       8.00493943])"
      ]
     },
     "execution_count": 84,
     "metadata": {},
     "output_type": "execute_result"
    }
   ],
   "source": [
    "y_price_pred"
   ]
  },
  {
   "cell_type": "code",
   "execution_count": 85,
   "metadata": {},
   "outputs": [],
   "source": [
    "diamonds_test['price'] = y_price_pred"
   ]
  },
  {
   "cell_type": "code",
   "execution_count": 86,
   "metadata": {},
   "outputs": [],
   "source": [
    "diamonds_test.drop(columns=['carat', 'cut', 'color', 'clarity', 'depth', 'table', 'x', 'y',\n",
    "       'z'], inplace=True)"
   ]
  },
  {
   "cell_type": "code",
   "execution_count": 87,
   "metadata": {},
   "outputs": [
    {
     "data": {
      "text/html": [
       "<div>\n",
       "<style scoped>\n",
       "    .dataframe tbody tr th:only-of-type {\n",
       "        vertical-align: middle;\n",
       "    }\n",
       "\n",
       "    .dataframe tbody tr th {\n",
       "        vertical-align: top;\n",
       "    }\n",
       "\n",
       "    .dataframe thead th {\n",
       "        text-align: right;\n",
       "    }\n",
       "</style>\n",
       "<table border=\"1\" class=\"dataframe\">\n",
       "  <thead>\n",
       "    <tr style=\"text-align: right;\">\n",
       "      <th></th>\n",
       "      <th>id</th>\n",
       "      <th>price</th>\n",
       "    </tr>\n",
       "  </thead>\n",
       "  <tbody>\n",
       "    <tr>\n",
       "      <th>0</th>\n",
       "      <td>0</td>\n",
       "      <td>6.125226</td>\n",
       "    </tr>\n",
       "    <tr>\n",
       "      <th>1</th>\n",
       "      <td>1</td>\n",
       "      <td>8.539615</td>\n",
       "    </tr>\n",
       "    <tr>\n",
       "      <th>2</th>\n",
       "      <td>2</td>\n",
       "      <td>9.490955</td>\n",
       "    </tr>\n",
       "    <tr>\n",
       "      <th>3</th>\n",
       "      <td>3</td>\n",
       "      <td>7.858289</td>\n",
       "    </tr>\n",
       "    <tr>\n",
       "      <th>4</th>\n",
       "      <td>4</td>\n",
       "      <td>8.904535</td>\n",
       "    </tr>\n",
       "    <tr>\n",
       "      <th>...</th>\n",
       "      <td>...</td>\n",
       "      <td>...</td>\n",
       "    </tr>\n",
       "    <tr>\n",
       "      <th>13480</th>\n",
       "      <td>13480</td>\n",
       "      <td>8.552932</td>\n",
       "    </tr>\n",
       "    <tr>\n",
       "      <th>13481</th>\n",
       "      <td>13481</td>\n",
       "      <td>8.386278</td>\n",
       "    </tr>\n",
       "    <tr>\n",
       "      <th>13482</th>\n",
       "      <td>13482</td>\n",
       "      <td>6.442524</td>\n",
       "    </tr>\n",
       "    <tr>\n",
       "      <th>13483</th>\n",
       "      <td>13483</td>\n",
       "      <td>8.740437</td>\n",
       "    </tr>\n",
       "    <tr>\n",
       "      <th>13484</th>\n",
       "      <td>13484</td>\n",
       "      <td>8.004939</td>\n",
       "    </tr>\n",
       "  </tbody>\n",
       "</table>\n",
       "<p>13485 rows × 2 columns</p>\n",
       "</div>"
      ],
      "text/plain": [
       "          id     price\n",
       "0          0  6.125226\n",
       "1          1  8.539615\n",
       "2          2  9.490955\n",
       "3          3  7.858289\n",
       "4          4  8.904535\n",
       "...      ...       ...\n",
       "13480  13480  8.552932\n",
       "13481  13481  8.386278\n",
       "13482  13482  6.442524\n",
       "13483  13483  8.740437\n",
       "13484  13484  8.004939\n",
       "\n",
       "[13485 rows x 2 columns]"
      ]
     },
     "execution_count": 87,
     "metadata": {},
     "output_type": "execute_result"
    }
   ],
   "source": [
    "diamonds_test"
   ]
  },
  {
   "cell_type": "code",
   "execution_count": 88,
   "metadata": {},
   "outputs": [],
   "source": [
    "diamonds_test.to_csv('diamonds_sub.csv', index = False)"
   ]
  },
  {
   "cell_type": "code",
   "execution_count": null,
   "metadata": {},
   "outputs": [],
   "source": []
  }
 ],
 "metadata": {
  "kernelspec": {
   "display_name": "ironcon",
   "language": "python",
   "name": "ironcon"
  },
  "language_info": {
   "codemirror_mode": {
    "name": "ipython",
    "version": 3
   },
   "file_extension": ".py",
   "mimetype": "text/x-python",
   "name": "python",
   "nbconvert_exporter": "python",
   "pygments_lexer": "ipython3",
   "version": "3.8.11"
  }
 },
 "nbformat": 4,
 "nbformat_minor": 4
}
